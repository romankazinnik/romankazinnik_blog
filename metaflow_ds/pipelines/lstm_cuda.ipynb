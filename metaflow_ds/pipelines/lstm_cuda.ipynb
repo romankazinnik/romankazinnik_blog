{
 "cells": [
  {
   "cell_type": "markdown",
   "metadata": {},
   "source": [
    "# Metaflow: run parallel branches\n",
    "\n",
    "### LSTM CPU, GPU and CUDA speedups. "
   ]
  },
  {
   "cell_type": "markdown",
   "metadata": {},
   "source": [
    "## Import the metaflow client"
   ]
  },
  {
   "cell_type": "code",
   "execution_count": 2,
   "metadata": {},
   "outputs": [
    {
     "name": "stdout",
     "output_type": "stream",
     "text": [
      "Current metadata provider: local@/Users/rkazinnik/Library/Preferences/PyCharm2019.3/metaflow/metaflow-tutorials\n"
     ]
    }
   ],
   "source": [
    "from metaflow import Flow, get_metadata\n",
    "import matplotlib.pyplot as plt\n",
    "print(\"Current metadata provider: %s\" % get_metadata())"
   ]
  },
  {
   "cell_type": "markdown",
   "metadata": {},
   "source": [
    "## Get the movie statistics from the latest run of MovieStatsFlow"
   ]
  },
  {
   "cell_type": "code",
   "execution_count": 4,
   "metadata": {},
   "outputs": [
    {
     "name": "stdout",
     "output_type": "stream",
     "text": [
      "Using run: Run('LSTMGPUCudaFlow/1585246414133796')\n"
     ]
    }
   ],
   "source": [
    "run0 = Flow('LSTMGPUCudaFlow').latest_successful_run\n",
    "print(\"Using run: %s\" % str(run0))\n",
    "\n",
    "model_stats = run0.data.model_stats"
   ]
  },
  {
   "cell_type": "markdown",
   "metadata": {},
   "source": [
    "## Create a bar plot of the median gross box office for the top-5 grossing genres"
   ]
  },
  {
   "cell_type": "code",
   "execution_count": 6,
   "metadata": {},
   "outputs": [
    {
     "name": "stdout",
     "output_type": "stream",
     "text": [
      "<MetaflowData: model_stats, name, num_lstm_experiments, size>\n",
      "1000 LSTMGPUCudaFlow 10\n",
      "run: Run('LSTMGPUCudaFlow/1585246414133796')\n",
      "\n",
      "branch keys:  [128, 256, 512, 1024, 2048, 4096, 8192, 16384, 32768, 65536, 'self_data']\n",
      " key = 128  data =  {'cpu': -1, 'gpu': -1, 'cpu_cuda': -1, 'gpu_cuda': -1}\n"
     ]
    }
   ],
   "source": [
    "# Get median for each genre\n",
    "print(run0.data)\n",
    "print(run0.data.size, run0.data.name,  run0.data.num_lstm_experiments)\n",
    "\n",
    "print(\"run: %s\" % str(run0))\n",
    "print()\n",
    "print(\"branch keys: \", list(run0.data.model_stats))\n",
    "assert run0.successful\n",
    "\n",
    "d = run0.data.model_stats\n",
    "k = list(d)[0]\n",
    "print(' key =', k, ' data = ', d[k])"
   ]
  },
  {
   "cell_type": "code",
   "execution_count": null,
   "outputs": [],
   "source": [],
   "metadata": {
    "collapsed": false,
    "pycharm": {
     "name": "#%%\n"
    }
   }
  },
  {
   "cell_type": "code",
   "execution_count": null,
   "metadata": {
    "pycharm": {
     "name": "#%%\n"
    }
   },
   "outputs": [],
   "source": []
  },
  {
   "cell_type": "code",
   "execution_count": null,
   "metadata": {
    "pycharm": {
     "name": "#%%\n"
    }
   },
   "outputs": [],
   "source": []
  },
  {
   "cell_type": "code",
   "execution_count": null,
   "metadata": {},
   "outputs": [],
   "source": []
  }
 ],
 "metadata": {
  "kernelspec": {
   "display_name": "Python 3",
   "language": "python",
   "name": "python3"
  },
  "language_info": {
   "codemirror_mode": {
    "name": "ipython",
    "version": 3
   },
   "file_extension": ".py",
   "mimetype": "text/x-python",
   "name": "python",
   "nbconvert_exporter": "python",
   "pygments_lexer": "ipython3",
   "version": "3.7.5"
  },
  "pycharm": {
   "stem_cell": {
    "cell_type": "raw",
    "source": [],
    "metadata": {
     "collapsed": false
    }
   }
  }
 },
 "nbformat": 4,
 "nbformat_minor": 2
}